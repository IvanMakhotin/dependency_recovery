{
 "cells": [
  {
   "cell_type": "code",
   "execution_count": 1,
   "metadata": {
    "collapsed": true
   },
   "outputs": [],
   "source": [
    "import numpy as np"
   ]
  },
  {
   "cell_type": "code",
   "execution_count": 2,
   "metadata": {
    "collapsed": true
   },
   "outputs": [],
   "source": [
    "Alearn=[(5.1, 3.5, 1.4, 0.2), (4.9, 3.0, 1.4, 0.2), (4.7, 3.2, 1.3, 0.2), (4.6, 3.1, 1.5, 0.2),\n",
    "        (5.0, 3.6, 1.4, 0.2), (5.4, 3.9, 1.7, 0.4), (4.6, 3.4, 1.4, 0.3), (5.0, 3.4, 1.5, 0.2),\n",
    "        (4.4, 2.9, 1.4, 0.2), (4.9, 3.1, 1.5, 0.1), (5.4, 3.7, 1.5, 0.2), (4.8, 3.4, 1.6, 0.2),\n",
    "        (4.8, 3.0, 1.4, 0.1), (4.3, 3.0, 1.1, 0.1), (5.8, 4.0, 1.2, 0.2), (5.7, 4.4, 1.5, 0.4),\n",
    "        (5.4, 3.9, 1.3, 0.4), (5.1, 3.5, 1.4, 0.3), (5.7, 3.8, 1.7, 0.3), (5.1, 3.8, 1.5, 0.3)]\n",
    "\n",
    "Aexam=[(5.4, 3.4, 1.7, 0.2), (5.1, 3.7, 1.5, 0.4), (4.6, 3.6, 1.0, 0.2), (5.1, 3.3, 1.7, 0.5),\n",
    "       (4.8, 3.4, 1.9, 0.2), (5.0, 3.0, 1.6, 0.2), (5.0, 3.4, 1.6, 0.4), (5.2, 3.5, 1.5, 0.2),\n",
    "       (5.2, 3.4, 1.4, 0.2), (4.7, 3.2, 1.6, 0.2), (4.8, 3.1, 1.6, 0.2), (5.4, 3.4, 1.5, 0.4),\n",
    "       (5.2, 4.1, 1.5, 0.1), (5.5, 4.2, 1.4, 0.2), (4.9, 3.1, 1.5, 0.2), (5.0, 3.2, 1.2, 0.2),\n",
    "       (5.5, 3.5, 1.3, 0.2), (4.9, 3.6, 1.4, 0.1), (4.4, 3.0, 1.3, 0.2), (5.1, 3.4, 1.5, 0.2),\n",
    "       (5.0, 3.5, 1.3, 0.3), (4.5, 2.3, 1.3, 0.3), (4.4, 3.2, 1.3, 0.2), (5.0, 3.5, 1.6, 0.6),\n",
    "       (5.1, 3.8, 1.9, 0.4), (4.8, 3.0, 1.4, 0.3), (5.1, 3.8, 1.6, 0.2), (4.6, 3.2, 1.4, 0.2),\n",
    "       (5.3, 3.7, 1.5, 0.2), (5.0, 3.3, 1.4, 0.2)]\n",
    "\n",
    "Blearn=[(7.0, 3.2, 4.7, 1.4), (6.4, 3.2, 4.5, 1.5), (6.9, 3.1, 4.9, 1.5), (5.5, 2.3, 4.0, 1.3),\n",
    "        (6.5, 2.8, 4.6, 1.5), (5.7, 2.8, 4.5, 1.3), (6.3, 3.3, 4.7, 1.6), (4.9, 2.4, 3.3, 1.0),\n",
    "        (6.6, 2.9, 4.6, 1.3), (5.2, 2.7, 3.9, 1.4), (5.0, 2.0, 3.5, 1.0), (5.9, 3.0, 4.2, 1.5),\n",
    "        (6.0, 2.2, 4.0, 1.0), (6.1, 2.9, 4.7, 1.4), (5.6, 2.9, 3.6, 1.3), (6.7, 3.1, 4.4, 1.4),\n",
    "        (5.6, 3.0, 4.5, 1.5), (5.8, 2.7, 4.1, 1.0), (6.2, 2.2, 4.5, 1.5), (5.6, 2.5, 3.9, 1.1)]\n",
    "\n",
    "Bexam=[(5.9, 3.2, 4.8, 1.8), (6.1, 2.8, 4.0, 1.3), (6.3, 2.5, 4.9, 1.5), (6.1, 2.8, 4.7, 1.2),\n",
    "       (6.4, 2.9, 4.3, 1.3), (6.6, 3.0, 4.4, 1.4), (6.8, 2.8, 4.8, 1.4), (6.7, 3.0, 5.0, 1.7),\n",
    "       (6.0, 2.9, 4.5, 1.5), (5.7, 2.6, 3.5, 1.0), (5.5, 2.4, 3.8, 1.1), (5.5, 2.4, 3.7, 1.0),\n",
    "       (5.8, 2.7, 3.9, 1.2), (6.0, 2.7, 5.1, 1.6), (5.4, 3.0, 4.5, 1.5), (6.0, 3.4, 4.5, 1.6),\n",
    "       (6.7, 3.1, 4.7, 1.5), (6.3, 2.3, 4.4, 1.3), (5.6, 3.0, 4.1, 1.3), (5.5, 2.5, 4.0, 1.3),\n",
    "       (5.5, 2.6, 4.4, 1.2), (6.1, 3.0, 4.6, 1.4), (5.8, 2.6, 4.0, 1.2), (5.0, 2.3, 3.3, 1.0),\n",
    "       (5.6, 2.7, 4.2, 1.3), (5.7, 3.0, 4.2, 1.2), (5.7, 2.9, 4.2, 1.3), (6.2, 2.9, 4.3, 1.3),\n",
    "       (5.1, 2.5, 3.0, 1.1), (5.7, 2.8, 4.1, 1.3)]\n",
    "\n",
    "Clearn=[(6.3, 3.3, 6.0, 2.5), (5.8, 2.7, 5.1, 1.9), (7.1, 3.0, 5.9, 2.1), (6.3, 2.9, 5.6, 1.8),\n",
    "        (6.5, 3.0, 5.8, 2.2), (7.6, 3.0, 6.6, 2.1), (4.9, 2.5, 4.5, 1.7), (7.3, 2.9, 6.3, 1.8),\n",
    "        (6.7, 2.5, 5.8, 1.8), (7.2, 3.6, 6.1, 2.5), (6.5, 3.2, 5.1, 2.0), (6.4, 2.7, 5.3, 1.9),\n",
    "        (6.8, 3.0, 5.5, 2.1), (5.7, 2.5, 5.0, 2.0), (5.8, 2.8, 5.1, 2.4), (6.4, 3.2, 5.3, 2.3),\n",
    "        (6.5, 3.0, 5.5, 1.8), (7.7, 3.8, 6.7, 2.2), (7.7, 2.6, 6.9, 2.3), (6.0, 2.2, 5.0, 1.5)]\n",
    "\n",
    "Cexam=[(6.9, 3.2, 5.7, 2.3), (5.6, 2.8, 4.9, 2.0), (7.7, 2.8, 6.7, 2.0), (6.3, 2.7, 4.9, 1.8),\n",
    "       (6.7, 3.3, 5.7, 2.1), (7.2, 3.2, 6.0, 1.8), (6.2, 2.8, 4.8, 1.8), (6.1, 3.0, 4.9, 1.8),\n",
    "       (6.4, 2.8, 5.6, 2.1), (7.2, 3.0, 5.8, 1.6), (7.4, 2.8, 6.1, 1.9), (7.9, 3.8, 6.4, 2.0),\n",
    "       (6.4, 2.8, 5.6, 2.2), (6.3, 2.8, 5.1, 1.5), (6.1, 2.6, 5.6, 1.4), (7.7, 3.0, 6.1, 2.3),\n",
    "       (6.3, 3.4, 5.6, 2.4), (6.4, 3.1, 5.5, 1.8), (6.0, 3.0, 4.8, 1.8), (6.9, 3.1, 5.4, 2.1),\n",
    "       (6.7, 3.1, 5.6, 2.4), (6.9, 3.1, 5.1, 2.3), (5.8, 2.7, 5.1, 1.9), (6.8, 3.2, 5.9, 2.3),\n",
    "       (6.7, 3.3, 5.7, 2.5), (6.7, 3.0, 5.2, 2.3), (6.3, 2.5, 5.0, 1.9), (6.5, 3.0, 5.2, 2.0),\n",
    "       (6.2, 3.4, 5.4, 2.3), (5.9, 3.0, 5.1, 1.8)]\n"
   ]
  },
  {
   "cell_type": "code",
   "execution_count": 3,
   "metadata": {
    "collapsed": true
   },
   "outputs": [],
   "source": [
    "Alearn, Aexam = np.array(Alearn), np.array(Aexam)\n",
    "Blearn, Bexam = np.array(Blearn), np.array(Bexam)\n",
    "Clearn, Cexam = np.array(Clearn), np.array(Cexam)\n",
    "#add ones\n",
    "Alearn = np.hstack(((np.ones(Alearn.shape[0])).reshape(Alearn.shape[0], 1), Alearn))\n",
    "Blearn = np.hstack(((np.ones(Blearn.shape[0])).reshape(Blearn.shape[0], 1), Blearn))\n",
    "Clearn = np.hstack(((np.ones(Clearn.shape[0])).reshape(Clearn.shape[0], 1), Clearn))\n",
    "Aexam = np.hstack(((np.ones(Aexam.shape[0])).reshape(Aexam.shape[0], 1), Aexam))\n",
    "Bexam = np.hstack(((np.ones(Bexam.shape[0])).reshape(Bexam.shape[0], 1), Bexam))\n",
    "Cexam = np.hstack(((np.ones(Cexam.shape[0])).reshape(Cexam.shape[0], 1), Cexam))"
   ]
  },
  {
   "cell_type": "code",
   "execution_count": 4,
   "metadata": {
    "collapsed": true
   },
   "outputs": [],
   "source": [
    "def grad(wrX_fst, wrX_snd):\n",
    "    return (np.sum(wrX_fst, axis = 0) - np.sum(wrX_snd, axis = 0))*(-1)\n"
   ]
  },
  {
   "cell_type": "code",
   "execution_count": 5,
   "metadata": {
    "collapsed": false
   },
   "outputs": [],
   "source": [
    "def learn(fst_learn, snd_learn, phi):\n",
    "    wrX_fst, wrX_snd = np.empty(shape=[0, fst_learn.shape[1]]), np.empty(shape=[0, snd_learn.shape[1]])\n",
    "    for e in fst_learn:\n",
    "        if np.sum(e*phi) < 0:\n",
    "            wrX_fst = np.vstack([wrX_fst, e])\n",
    "    for e in snd_learn:\n",
    "        if np.sum(e*phi) >= 0:\n",
    "            wrX_snd = np.vstack([wrX_snd, e])\n",
    "    phi = phi - grad(wrX_fst, wrX_snd)\n",
    "    errors = len(wrX_fst) + len(wrX_snd)\n",
    "    print \"  errors: \", errors\n",
    "    print \"  phi: \", phi\n",
    "    return (phi, errors)"
   ]
  },
  {
   "cell_type": "code",
   "execution_count": 6,
   "metadata": {
    "collapsed": true
   },
   "outputs": [],
   "source": [
    "def exam(phi, fst_exam, snd_exam, label1, label2):\n",
    "    errors = 0\n",
    "    ans1 = list()\n",
    "    ans2 = list()\n",
    "    for e in fst_exam:\n",
    "        if np.sum(e*phi) >= 0:\n",
    "            ans1.append(label1)\n",
    "        else:\n",
    "            errors += 1\n",
    "            ans1.append(label2)\n",
    "\n",
    "    for e in snd_exam:\n",
    "        if np.sum(e*phi) >= 0:\n",
    "            errors += 1\n",
    "            ans2.append(label1)\n",
    "        else:\n",
    "            ans2.append(label2)\n",
    "    print \"errors: \", errors\n",
    "    print ans1\n",
    "    print ans2\n",
    "    "
   ]
  },
  {
   "cell_type": "markdown",
   "metadata": {},
   "source": [
    "**A vs B**"
   ]
  },
  {
   "cell_type": "code",
   "execution_count": 7,
   "metadata": {
    "collapsed": false
   },
   "outputs": [
    {
     "name": "stdout",
     "output_type": "stream",
     "text": [
      "iteration 1\n",
      "  errors:  20\n",
      "  phi:  [ -19.  -118.5  -54.2  -84.1  -25.5]\n",
      "iteration 2\n",
      "  errors:  20\n",
      "  phi:  [  1.  -17.8  15.4 -55.4 -20.8]\n",
      "iteration 3\n",
      "  errors:  20\n",
      "  phi:  [ 21.   82.9  85.  -26.7 -16.1]\n",
      "iteration 4\n",
      "  errors:  20\n",
      "  phi:  [   1.   -36.6   29.8 -111.8  -42.6]\n",
      "iteration 5\n",
      "  errors:  20\n",
      "  phi:  [ 21.   64.1  99.4 -83.1 -37.9]\n",
      "iteration 6\n",
      "  errors:  20\n",
      "  phi:  [   1.   -55.4   44.2 -168.2  -64.4]\n",
      "iteration 7\n",
      "  errors:  20\n",
      "  phi:  [  21.    45.3  113.8 -139.5  -59.7]\n",
      "iteration 8\n",
      "  errors:  1\n",
      "  phi:  [  20.    39.7  110.9 -143.1  -61. ]\n",
      "iteration 9\n",
      "  errors:  0\n",
      "  phi:  [  20.    39.7  110.9 -143.1  -61. ]\n"
     ]
    }
   ],
   "source": [
    "i = 0\n",
    "errors = 40\n",
    "phi = np.array([1,1,1,1,1])\n",
    "while errors > 0:\n",
    "    i += 1\n",
    "    print \"iteration\", i\n",
    "    phi, errors = learn(Alearn, Blearn, phi)"
   ]
  },
  {
   "cell_type": "code",
   "execution_count": 8,
   "metadata": {
    "collapsed": false
   },
   "outputs": [
    {
     "name": "stdout",
     "output_type": "stream",
     "text": [
      "errors:  1\n",
      "['A', 'A', 'A', 'A', 'A', 'A', 'A', 'A', 'A', 'A', 'A', 'A', 'A', 'A', 'A', 'A', 'A', 'A', 'A', 'A', 'A', 'A', 'A', 'A', 'A', 'A', 'A', 'A', 'A', 'A']\n",
      "['B', 'B', 'B', 'B', 'B', 'B', 'B', 'B', 'B', 'B', 'B', 'B', 'B', 'B', 'B', 'B', 'B', 'B', 'B', 'B', 'B', 'B', 'B', 'B', 'B', 'B', 'B', 'B', 'A', 'B']\n"
     ]
    }
   ],
   "source": [
    "exam(phi, Aexam, Bexam, 'A', 'B')"
   ]
  },
  {
   "cell_type": "markdown",
   "metadata": {},
   "source": [
    "**A vs C**"
   ]
  },
  {
   "cell_type": "code",
   "execution_count": 9,
   "metadata": {
    "collapsed": false
   },
   "outputs": [
    {
     "name": "stdout",
     "output_type": "stream",
     "text": [
      "iteration 1\n",
      "  errors:  20\n",
      "  phi:  [ -19.  -130.2  -57.4 -112.1  -39.9]\n",
      "iteration 2\n",
      "  errors:  20\n",
      "  phi:  [  1.  -29.5  12.2 -83.4 -35.2]\n",
      "iteration 3\n",
      "  errors:  20\n",
      "  phi:  [ 21.   71.2  81.8 -54.7 -30.5]\n",
      "iteration 4\n",
      "  errors:  20\n",
      "  phi:  [   1.   -60.    23.4 -167.8  -71.4]\n",
      "iteration 5\n",
      "  errors:  20\n",
      "  phi:  [  21.    40.7   93.  -139.1  -66.7]\n",
      "iteration 6\n",
      "  errors:  0\n",
      "  phi:  [  21.    40.7   93.  -139.1  -66.7]\n"
     ]
    }
   ],
   "source": [
    "i = 0\n",
    "errors = 40\n",
    "phi = np.array([1,1,1,1,1])\n",
    "while errors > 0:\n",
    "    i += 1\n",
    "    print \"iteration\", i\n",
    "    phi, errors = learn(Alearn, Clearn, phi)"
   ]
  },
  {
   "cell_type": "code",
   "execution_count": 10,
   "metadata": {
    "collapsed": false
   },
   "outputs": [
    {
     "name": "stdout",
     "output_type": "stream",
     "text": [
      "errors:  0\n",
      "['A', 'A', 'A', 'A', 'A', 'A', 'A', 'A', 'A', 'A', 'A', 'A', 'A', 'A', 'A', 'A', 'A', 'A', 'A', 'A', 'A', 'A', 'A', 'A', 'A', 'A', 'A', 'A', 'A', 'A']\n",
      "['C', 'C', 'C', 'C', 'C', 'C', 'C', 'C', 'C', 'C', 'C', 'C', 'C', 'C', 'C', 'C', 'C', 'C', 'C', 'C', 'C', 'C', 'C', 'C', 'C', 'C', 'C', 'C', 'C', 'C']\n"
     ]
    }
   ],
   "source": [
    "exam(phi, Aexam, Cexam, 'A', 'C')"
   ]
  },
  {
   "cell_type": "markdown",
   "metadata": {},
   "source": [
    "**B vs C**"
   ]
  },
  {
   "cell_type": "code",
   "execution_count": 11,
   "metadata": {
    "collapsed": false
   },
   "outputs": [
    {
     "name": "stdout",
     "output_type": "stream",
     "text": [
      "iteration 1\n",
      "  errors:  20\n",
      "  phi:  [ -19.  -130.2  -57.4 -112.1  -39.9]\n",
      "iteration 2\n",
      "  errors:  20\n",
      "  phi:  [  1.  -10.7  -2.2 -27.  -13.4]\n",
      "iteration 3\n",
      "  errors:  20\n",
      "  phi:  [  21.   108.8   53.    58.1   13.1]\n",
      "iteration 4\n",
      "  errors:  20\n",
      "  phi:  [  1.  -22.4  -5.4 -55.  -27.8]\n",
      "iteration 5\n",
      "  errors:  20\n",
      "  phi:  [ 21.   97.1  49.8  30.1  -1.3]\n",
      "iteration 6\n",
      "  errors:  20\n",
      "  phi:  [  1.  -34.1  -8.6 -83.  -42.2]\n",
      "iteration 7\n",
      "  errors:  20\n",
      "  phi:  [ 21.   85.4  46.6   2.1 -15.7]\n",
      "iteration 8\n",
      "  errors:  20\n",
      "  phi:  [   1.   -45.8  -11.8 -111.   -56.6]\n",
      "iteration 9\n",
      "  errors:  20\n",
      "  phi:  [ 21.   73.7  43.4 -25.9 -30.1]\n",
      "iteration 10\n",
      "  errors:  20\n",
      "  phi:  [   1.   -57.5  -15.  -139.   -71. ]\n",
      "iteration 11\n",
      "  errors:  20\n",
      "  phi:  [ 21.   62.   40.2 -53.9 -44.5]\n",
      "iteration 12\n",
      "  errors:  20\n",
      "  phi:  [   1.   -69.2  -18.2 -167.   -85.4]\n",
      "iteration 13\n",
      "  errors:  20\n",
      "  phi:  [ 21.   50.3  37.  -81.9 -58.9]\n",
      "iteration 14\n",
      "  errors:  10\n",
      "  phi:  [  31.   110.2   65.1  -37.4  -44.4]\n",
      "iteration 15\n",
      "  errors:  20\n",
      "  phi:  [  11.   -21.     6.7 -150.5  -85.3]\n",
      "iteration 16\n",
      "  errors:  20\n",
      "  phi:  [ 31.   98.5  61.9 -65.4 -58.8]\n",
      "iteration 17\n",
      "  errors:  20\n",
      "  phi:  [  11.   -32.7    3.5 -178.5  -99.7]\n",
      "iteration 18\n",
      "  errors:  20\n",
      "  phi:  [ 31.   86.8  58.7 -93.4 -73.2]\n",
      "iteration 19\n",
      "  errors:  20\n",
      "  phi:  [  11.   -44.4    0.3 -206.5 -114.1]\n",
      "iteration 20\n",
      "  errors:  20\n",
      "  phi:  [  31.    75.1   55.5 -121.4  -87.6]\n",
      "iteration 21\n",
      "  errors:  10\n",
      "  phi:  [  41.   135.    83.6  -76.9  -73.1]\n",
      "iteration 22\n",
      "  errors:  20\n",
      "  phi:  [  21.     3.8   25.2 -190.  -114. ]\n",
      "iteration 23\n",
      "  errors:  20\n",
      "  phi:  [  41.   123.3   80.4 -104.9  -87.5]\n",
      "iteration 24\n",
      "  errors:  20\n",
      "  phi:  [  21.    -7.9   22.  -218.  -128.4]\n",
      "iteration 25\n",
      "  errors:  20\n",
      "  phi:  [  41.   111.6   77.2 -132.9 -101.9]\n",
      "iteration 26\n",
      "  errors:  17\n",
      "  phi:  [  2.40000000e+01   2.00000000e-01   2.75000000e+01  -2.28000000e+02\n",
      "  -1.35600000e+02]\n",
      "iteration 27\n",
      "  errors:  20\n",
      "  phi:  [  44.   119.7   82.7 -142.9 -109.1]\n",
      "iteration 28\n",
      "  errors:  17\n",
      "  phi:  [  27.     8.3   33.  -238.  -142.8]\n",
      "iteration 29\n",
      "  errors:  20\n",
      "  phi:  [  47.   127.8   88.2 -152.9 -116.3]\n",
      "iteration 30\n",
      "  errors:  15\n",
      "  phi:  [  32.    28.6   44.  -237.2 -145.8]\n",
      "iteration 31\n",
      "  errors:  20\n",
      "  phi:  [  52.   148.1   99.2 -152.1 -119.3]\n",
      "iteration 32\n",
      "  errors:  20\n",
      "  phi:  [  32.    16.9   40.8 -265.2 -160.2]\n",
      "iteration 33\n",
      "  errors:  20\n",
      "  phi:  [  52.   136.4   96.  -180.1 -133.7]\n",
      "iteration 34\n",
      "  errors:  1\n",
      "  phi:  [  51.   129.9   92.8 -185.2 -135.7]\n",
      "iteration 35\n",
      "  errors:  0\n",
      "  phi:  [  51.   129.9   92.8 -185.2 -135.7]\n"
     ]
    }
   ],
   "source": [
    "i = 0\n",
    "errors = 40\n",
    "phi = np.array([1,1,1,1,1])\n",
    "while errors > 0:\n",
    "    i += 1\n",
    "    print \"iteration\", i\n",
    "    phi, errors = learn(Blearn, Clearn, phi)"
   ]
  },
  {
   "cell_type": "code",
   "execution_count": 12,
   "metadata": {
    "collapsed": false
   },
   "outputs": [
    {
     "name": "stdout",
     "output_type": "stream",
     "text": [
      "errors:  4\n",
      "['C', 'B', 'C', 'B', 'B', 'B', 'B', 'B', 'B', 'B', 'B', 'B', 'B', 'C', 'C', 'B', 'B', 'B', 'B', 'B', 'B', 'B', 'B', 'B', 'B', 'B', 'B', 'B', 'B', 'B']\n",
      "['C', 'C', 'C', 'C', 'C', 'C', 'C', 'C', 'C', 'C', 'C', 'C', 'C', 'C', 'C', 'C', 'C', 'C', 'C', 'C', 'C', 'C', 'C', 'C', 'C', 'C', 'C', 'C', 'C', 'C']\n"
     ]
    }
   ],
   "source": [
    "exam(phi, Bexam, Cexam, 'B', 'C')"
   ]
  },
  {
   "cell_type": "code",
   "execution_count": null,
   "metadata": {
    "collapsed": true
   },
   "outputs": [],
   "source": []
  }
 ],
 "metadata": {
  "kernelspec": {
   "display_name": "Python 2",
   "language": "python",
   "name": "python2"
  },
  "language_info": {
   "codemirror_mode": {
    "name": "ipython",
    "version": 2
   },
   "file_extension": ".py",
   "mimetype": "text/x-python",
   "name": "python",
   "nbconvert_exporter": "python",
   "pygments_lexer": "ipython2",
   "version": "2.7.12"
  }
 },
 "nbformat": 4,
 "nbformat_minor": 0
}
